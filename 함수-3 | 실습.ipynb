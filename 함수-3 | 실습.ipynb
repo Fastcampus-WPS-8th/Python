{
 "cells": [
  {
   "cell_type": "markdown",
   "metadata": {},
   "source": [
    "## 1번"
   ]
  },
  {
   "cell_type": "code",
   "execution_count": 2,
   "metadata": {},
   "outputs": [],
   "source": [
    "def what_fruit(color):\n",
    "    if color == 'red':\n",
    "        return 'apple'\n",
    "    elif color == 'yellow':\n",
    "        return 'banana'\n",
    "    elif color == 'green':\n",
    "        return 'melon'\n",
    "    else:\n",
    "        return \"I don't know\""
   ]
  },
  {
   "cell_type": "code",
   "execution_count": 16,
   "metadata": {},
   "outputs": [],
   "source": [
    "# dict를 사용하는 법\n",
    "fruit_dict = {\n",
    "    'red': 'apple',\n",
    "    'yellow': 'banana',\n",
    "    'green': 'melon',\n",
    "}\n",
    "# 대괄호를 사용해서 값을 검색\n",
    "#  dict['red']\n",
    "\n",
    "# get()함수를 사용해서 값을 검색\n",
    "#  dict.get('red')\n",
    "\n",
    "def what_fruit2(color):\n",
    "    return fruit_dict.get(color, \"I don't know\")"
   ]
  },
  {
   "cell_type": "code",
   "execution_count": 17,
   "metadata": {},
   "outputs": [
    {
     "data": {
      "text/plain": [
       "\"I don't know\""
      ]
     },
     "execution_count": 17,
     "metadata": {},
     "output_type": "execute_result"
    }
   ],
   "source": [
    "what_fruit2('white')"
   ]
  },
  {
   "cell_type": "code",
   "execution_count": 6,
   "metadata": {},
   "outputs": [
    {
     "data": {
      "text/plain": [
       "'apple'"
      ]
     },
     "execution_count": 6,
     "metadata": {},
     "output_type": "execute_result"
    }
   ],
   "source": [
    "fruit_dict['red']"
   ]
  },
  {
   "cell_type": "code",
   "execution_count": 18,
   "metadata": {},
   "outputs": [
    {
     "name": "stdout",
     "output_type": "stream",
     "text": [
      "I don't know\n"
     ]
    }
   ],
   "source": [
    "result = fruit_dict.get('white', \"I don't know\")\n",
    "print(result)"
   ]
  },
  {
   "cell_type": "markdown",
   "metadata": {},
   "source": [
    "## 2번"
   ]
  },
  {
   "cell_type": "code",
   "execution_count": 40,
   "metadata": {},
   "outputs": [],
   "source": [
    "def what_fruit2(color):\n",
    "    \"\"\"\n",
    "    색상 문자열을 받아 해당하는 과일 문자열을 돌려주는 함수\n",
    "    @color: 색상 문자열\n",
    "    return 과일 문자열\n",
    "    \"\"\"\n",
    "    return fruit_dict.get(color, \"I don't know\")"
   ]
  },
  {
   "cell_type": "markdown",
   "metadata": {},
   "source": [
    "## 3번"
   ]
  },
  {
   "cell_type": "code",
   "execution_count": 37,
   "metadata": {},
   "outputs": [],
   "source": [
    "def square(x):\n",
    "    return x ** 2\n",
    "\n",
    "def multi(x, y):\n",
    "    return x * y\n",
    "\n",
    "# 1. 매개변수 중 1개에 기본값을 지정 (x, y=<Default>)\n",
    "# 2. 위치인자 묶음을 사용 (*args)\n",
    "def square_or_multi_default_parameter(x, y=None):\n",
    "    if y is None:\n",
    "        return x ** 2\n",
    "    else:\n",
    "        return x * y\n",
    "    \n",
    "# None을 Boolean판단 기준으로 사용\n",
    "# if문에 해당할 경우 함수가 return되므로 else문 생략\n",
    "def square_or_multi_default_parameter(x, y=None):\n",
    "    if y:\n",
    "        return x * y\n",
    "    return x ** 2\n",
    "\n",
    "# 조건표현식을 사용해서 한 줄로 처리\n",
    "def square_or_multi_default_parameter(x, y=None):\n",
    "    return x * y if y else x ** 2\n",
    "\n",
    "    \n",
    "# 위치인자 묶음을 사용\n",
    "def square_or_multi_positional_args(*args):\n",
    "    args_length = len(args)\n",
    "    if args_length == 2:\n",
    "        return args[0] * args[1]\n",
    "    return args[0] ** 2\n",
    "\n",
    "# 위치인자 묶음을 튜플 언패킹으로 사용\n",
    "def square_or_multi_positional_args(*args):\n",
    "    if len(args) == 1:\n",
    "        # 튜플 언패킹 시 좌,우변을 모두 'tuple'형태로 만들어야 함\n",
    "        arg1, = args\n",
    "        return arg1 ** 2\n",
    "    elif len(args2) == 2:\n",
    "        arg1, arg2 == args\n",
    "        return arg1 * arg2\n",
    "    \n",
    "def square_or_multi_positional_args(*args):\n",
    "    if len(args) == 1:\n",
    "        # 튜플 언패킹 시 좌,우변을 모두 'tuple'형태로 만들어야 함\n",
    "        arg1, = args\n",
    "    elif len(args) == 2:\n",
    "        arg1, arg2 = args\n",
    "        \n",
    "    # if문에 따라 달라진 locals() dict에서 \n",
    "    # 'arg2'키가 있는지 여부로 리턴할 값을 변환\n",
    "    if 'arg2' in locals():\n",
    "        return arg1 * arg2\n",
    "    return arg1 ** 2"
   ]
  },
  {
   "cell_type": "code",
   "execution_count": 39,
   "metadata": {},
   "outputs": [
    {
     "name": "stdout",
     "output_type": "stream",
     "text": [
      "{'arg1': 3, 'args': (3,)}\n"
     ]
    },
    {
     "data": {
      "text/plain": [
       "9"
      ]
     },
     "execution_count": 39,
     "metadata": {},
     "output_type": "execute_result"
    }
   ],
   "source": [
    "square_or_multi_positional_args(3)"
   ]
  },
  {
   "cell_type": "code",
   "execution_count": 28,
   "metadata": {},
   "outputs": [
    {
     "ename": "ValueError",
     "evalue": "숫자는 1개 또는 2개만 입력해주세요",
     "output_type": "error",
     "traceback": [
      "\u001b[0;31m--------------------------------------------------------------\u001b[0m",
      "\u001b[0;31mValueError\u001b[0m                   Traceback (most recent call last)",
      "\u001b[0;32m<ipython-input-28-85dea4d13e8a>\u001b[0m in \u001b[0;36m<module>\u001b[0;34m()\u001b[0m\n\u001b[0;32m----> 1\u001b[0;31m \u001b[0msquare_or_multi_positional_args\u001b[0m\u001b[0;34m(\u001b[0m\u001b[0;36m4\u001b[0m\u001b[0;34m,\u001b[0m \u001b[0;36m6\u001b[0m\u001b[0;34m,\u001b[0m \u001b[0;36m5\u001b[0m\u001b[0;34m)\u001b[0m\u001b[0;34m\u001b[0m\u001b[0m\n\u001b[0m",
      "\u001b[0;32m<ipython-input-27-fac5f869ea89>\u001b[0m in \u001b[0;36msquare_or_multi_positional_args\u001b[0;34m(*args)\u001b[0m\n\u001b[1;32m     29\u001b[0m     \u001b[0margs_length\u001b[0m \u001b[0;34m=\u001b[0m \u001b[0mlen\u001b[0m\u001b[0;34m(\u001b[0m\u001b[0margs\u001b[0m\u001b[0;34m)\u001b[0m\u001b[0;34m\u001b[0m\u001b[0m\n\u001b[1;32m     30\u001b[0m     \u001b[0;32mif\u001b[0m \u001b[0margs_length\u001b[0m \u001b[0;34m>\u001b[0m \u001b[0;36m2\u001b[0m \u001b[0;32mor\u001b[0m \u001b[0margs_length\u001b[0m \u001b[0;34m<\u001b[0m \u001b[0;36m1\u001b[0m\u001b[0;34m:\u001b[0m\u001b[0;34m\u001b[0m\u001b[0m\n\u001b[0;32m---> 31\u001b[0;31m         \u001b[0;32mraise\u001b[0m \u001b[0mValueError\u001b[0m\u001b[0;34m(\u001b[0m\u001b[0;34m'숫자는 1개 또는 2개만 입력해주세요'\u001b[0m\u001b[0;34m)\u001b[0m\u001b[0;34m\u001b[0m\u001b[0m\n\u001b[0m\u001b[1;32m     32\u001b[0m     \u001b[0;32mif\u001b[0m \u001b[0margs_length\u001b[0m \u001b[0;34m==\u001b[0m \u001b[0;36m2\u001b[0m\u001b[0;34m:\u001b[0m\u001b[0;34m\u001b[0m\u001b[0m\n\u001b[1;32m     33\u001b[0m         \u001b[0;32mreturn\u001b[0m \u001b[0margs\u001b[0m\u001b[0;34m[\u001b[0m\u001b[0;36m0\u001b[0m\u001b[0;34m]\u001b[0m \u001b[0;34m*\u001b[0m \u001b[0margs\u001b[0m\u001b[0;34m[\u001b[0m\u001b[0;36m1\u001b[0m\u001b[0;34m]\u001b[0m\u001b[0;34m\u001b[0m\u001b[0m\n",
      "\u001b[0;31mValueError\u001b[0m: 숫자는 1개 또는 2개만 입력해주세요"
     ]
    }
   ],
   "source": [
    "square_or_multi_positional_args(4, 6, 5)"
   ]
  },
  {
   "cell_type": "code",
   "execution_count": 21,
   "metadata": {},
   "outputs": [
    {
     "ename": "TypeError",
     "evalue": "square_or_multi_default_parameter() missing 1 required positional argument: 'y'",
     "output_type": "error",
     "traceback": [
      "\u001b[0;31m--------------------------------------------------------------\u001b[0m",
      "\u001b[0;31mTypeError\u001b[0m                    Traceback (most recent call last)",
      "\u001b[0;32m<ipython-input-21-059ed57b8b73>\u001b[0m in \u001b[0;36m<module>\u001b[0;34m()\u001b[0m\n\u001b[0;32m----> 1\u001b[0;31m \u001b[0msquare_or_multi_default_parameter\u001b[0m\u001b[0;34m(\u001b[0m\u001b[0;36m3\u001b[0m\u001b[0;34m)\u001b[0m\u001b[0;34m\u001b[0m\u001b[0m\n\u001b[0m",
      "\u001b[0;31mTypeError\u001b[0m: square_or_multi_default_parameter() missing 1 required positional argument: 'y'"
     ]
    }
   ],
   "source": [
    "square_or_multi_default_parameter(3)"
   ]
  },
  {
   "cell_type": "markdown",
   "metadata": {},
   "source": [
    "## 4번"
   ]
  },
  {
   "cell_type": "code",
   "execution_count": 41,
   "metadata": {},
   "outputs": [],
   "source": [
    "def sum_sub(x, y):\n",
    "    return (x + y, x - y)"
   ]
  },
  {
   "cell_type": "code",
   "execution_count": 42,
   "metadata": {},
   "outputs": [
    {
     "data": {
      "text/plain": [
       "(8, 2)"
      ]
     },
     "execution_count": 42,
     "metadata": {},
     "output_type": "execute_result"
    }
   ],
   "source": [
    "sum_sub(5, 3)"
   ]
  },
  {
   "cell_type": "code",
   "execution_count": 43,
   "metadata": {},
   "outputs": [
    {
     "data": {
      "text/plain": [
       "(8, -2)"
      ]
     },
     "execution_count": 43,
     "metadata": {},
     "output_type": "execute_result"
    }
   ],
   "source": [
    "sum_sub(3, 5)"
   ]
  },
  {
   "cell_type": "code",
   "execution_count": 44,
   "metadata": {},
   "outputs": [],
   "source": [
    "def sum_sub(x, y):\n",
    "    if x > y:\n",
    "        sub = x - y\n",
    "    else:\n",
    "        sub = y - x\n",
    "    return (x + y, sub)"
   ]
  },
  {
   "cell_type": "code",
   "execution_count": 45,
   "metadata": {},
   "outputs": [],
   "source": [
    "def sum_sub(x, y):\n",
    "    return (x + y, x - y if x > y else y - x)"
   ]
  },
  {
   "cell_type": "code",
   "execution_count": 46,
   "metadata": {},
   "outputs": [],
   "source": [
    "def sum_sub(x, y):\n",
    "    return (x + y, abs(x - y))"
   ]
  },
  {
   "cell_type": "markdown",
   "metadata": {},
   "source": [
    "## 5번"
   ]
  },
  {
   "cell_type": "code",
   "execution_count": 47,
   "metadata": {},
   "outputs": [],
   "source": [
    "def get_args_num(*args):\n",
    "    print(f'위치인자는 총 {len(args)}개가 전달되었습니다')\n",
    "    return len(args)"
   ]
  },
  {
   "cell_type": "code",
   "execution_count": 48,
   "metadata": {},
   "outputs": [
    {
     "name": "stdout",
     "output_type": "stream",
     "text": [
      "위치인자는 총 5개가 전달되었습니다\n"
     ]
    }
   ],
   "source": [
    "result = get_args_num(2,3,4,5,6)"
   ]
  },
  {
   "cell_type": "code",
   "execution_count": 49,
   "metadata": {},
   "outputs": [
    {
     "name": "stdout",
     "output_type": "stream",
     "text": [
      "5\n"
     ]
    }
   ],
   "source": [
    "print(result)"
   ]
  },
  {
   "cell_type": "markdown",
   "metadata": {},
   "source": [
    "## 6번"
   ]
  },
  {
   "cell_type": "code",
   "execution_count": 52,
   "metadata": {},
   "outputs": [
    {
     "data": {
      "text/plain": [
       "['2 x 1 = 2',\n",
       " '2 x 2 = 4',\n",
       " '2 x 3 = 6',\n",
       " '2 x 4 = 8',\n",
       " '2 x 5 = 10',\n",
       " '2 x 6 = 12',\n",
       " '2 x 7 = 14',\n",
       " '2 x 8 = 16',\n",
       " '2 x 9 = 18',\n",
       " '3 x 1 = 3',\n",
       " '3 x 2 = 6',\n",
       " '3 x 3 = 9',\n",
       " '3 x 4 = 12',\n",
       " '3 x 5 = 15',\n",
       " '3 x 6 = 18',\n",
       " '3 x 7 = 21',\n",
       " '3 x 8 = 24',\n",
       " '3 x 9 = 27',\n",
       " '4 x 1 = 4',\n",
       " '4 x 2 = 8',\n",
       " '4 x 3 = 12',\n",
       " '4 x 4 = 16',\n",
       " '4 x 5 = 20',\n",
       " '4 x 6 = 24',\n",
       " '4 x 7 = 28',\n",
       " '4 x 8 = 32',\n",
       " '4 x 9 = 36',\n",
       " '5 x 1 = 5',\n",
       " '5 x 2 = 10',\n",
       " '5 x 3 = 15',\n",
       " '5 x 4 = 20',\n",
       " '5 x 5 = 25',\n",
       " '5 x 6 = 30',\n",
       " '5 x 7 = 35',\n",
       " '5 x 8 = 40',\n",
       " '5 x 9 = 45',\n",
       " '6 x 1 = 6',\n",
       " '6 x 2 = 12',\n",
       " '6 x 3 = 18',\n",
       " '6 x 4 = 24',\n",
       " '6 x 5 = 30',\n",
       " '6 x 6 = 36',\n",
       " '6 x 7 = 42',\n",
       " '6 x 8 = 48',\n",
       " '6 x 9 = 54',\n",
       " '7 x 1 = 7',\n",
       " '7 x 2 = 14',\n",
       " '7 x 3 = 21',\n",
       " '7 x 4 = 28',\n",
       " '7 x 5 = 35',\n",
       " '7 x 6 = 42',\n",
       " '7 x 7 = 49',\n",
       " '7 x 8 = 56',\n",
       " '7 x 9 = 63',\n",
       " '8 x 1 = 8',\n",
       " '8 x 2 = 16',\n",
       " '8 x 3 = 24',\n",
       " '8 x 4 = 32',\n",
       " '8 x 5 = 40',\n",
       " '8 x 6 = 48',\n",
       " '8 x 7 = 56',\n",
       " '8 x 8 = 64',\n",
       " '8 x 9 = 72',\n",
       " '9 x 1 = 9',\n",
       " '9 x 2 = 18',\n",
       " '9 x 3 = 27',\n",
       " '9 x 4 = 36',\n",
       " '9 x 5 = 45',\n",
       " '9 x 6 = 54',\n",
       " '9 x 7 = 63',\n",
       " '9 x 8 = 72',\n",
       " '9 x 9 = 81']"
      ]
     },
     "execution_count": 52,
     "metadata": {},
     "output_type": "execute_result"
    }
   ],
   "source": [
    "[(lambda a, b: f'{a} x {b} = {a * b}')(x, y) for x in range(2, 10) for y in range(1, 10)]"
   ]
  },
  {
   "cell_type": "markdown",
   "metadata": {},
   "source": [
    "## 순차검색"
   ]
  },
  {
   "cell_type": "code",
   "execution_count": 80,
   "metadata": {},
   "outputs": [],
   "source": [
    "def sequential_search(string, key):\n",
    "    index = 0\n",
    "    # 전체 문자열을 순회하며 각 글자를 char에 할당\n",
    "    for char in string:\n",
    "        print(char)\n",
    "        # 순회중인 문자(char)와 찾으려는 문자(key)가 같은 경우\n",
    "        if char == key:\n",
    "            # 메시지를 출력하고 해당 index를 리턴\n",
    "            print('찾는값이 나왔음, index:', index)\n",
    "            return index\n",
    "        \n",
    "        # 매 루프의 끝에서 index값을 1씩 증가\n",
    "        index += 1\n",
    "    \n",
    "    # 전체 문자열을 순회했음에도 char와 key가 같은 경우가 없었다면\n",
    "    # (같다면 return으로 함수가 종료됨)\n",
    "    # -1을 리턴하며 함수 종료\n",
    "    return -1"
   ]
  },
  {
   "cell_type": "code",
   "execution_count": 85,
   "metadata": {},
   "outputs": [],
   "source": [
    "def sequential_search(string, key):\n",
    "    for index, char in enumerate(string):\n",
    "        if char == key:\n",
    "            return index\n",
    "    return -1"
   ]
  },
  {
   "cell_type": "code",
   "execution_count": 83,
   "metadata": {},
   "outputs": [],
   "source": [
    "result = sequential_search('hello', 'x')"
   ]
  },
  {
   "cell_type": "code",
   "execution_count": 84,
   "metadata": {},
   "outputs": [
    {
     "name": "stdout",
     "output_type": "stream",
     "text": [
      "-1\n"
     ]
    }
   ],
   "source": [
    "print(result)"
   ]
  },
  {
   "cell_type": "code",
   "execution_count": 100,
   "metadata": {},
   "outputs": [],
   "source": [
    "def sequential_search(string, key):\n",
    "    index = 0\n",
    "    # 5글자 문자열\n",
    "    #  length:    5\n",
    "    #  최대 index: 4\n",
    "    while index < len(string):\n",
    "        # 주어진 문자열(string)에서 index번째의 문자를 \n",
    "        # char변수에 할당\n",
    "        char = string[index]\n",
    "        print(f'Index: {index}, 현재문자: {char}')\n",
    "        if char == key:\n",
    "            print('찾았음')\n",
    "            return index\n",
    "        index += 1\n",
    "    return -1"
   ]
  },
  {
   "cell_type": "code",
   "execution_count": 102,
   "metadata": {
    "scrolled": true
   },
   "outputs": [
    {
     "name": "stdout",
     "output_type": "stream",
     "text": [
      "Index: 0, 현재문자: h\n",
      "Index: 1, 현재문자: e\n",
      "Index: 2, 현재문자: l\n",
      "Index: 3, 현재문자: l\n",
      "Index: 4, 현재문자: o\n"
     ]
    },
    {
     "data": {
      "text/plain": [
       "-1"
      ]
     },
     "execution_count": 102,
     "metadata": {},
     "output_type": "execute_result"
    }
   ],
   "source": [
    "sequential_search('hello', 'x')"
   ]
  },
  {
   "cell_type": "markdown",
   "metadata": {},
   "source": [
    "## 선택정렬"
   ]
  },
  {
   "cell_type": "code",
   "execution_count": 104,
   "metadata": {},
   "outputs": [],
   "source": [
    "ori = [9,1,6,8,4,3,2,0]"
   ]
  },
  {
   "cell_type": "code",
   "execution_count": null,
   "metadata": {},
   "outputs": [],
   "source": [
    "# for문을 사용해서\n",
    "# 0번째 loop -> 총 8개의 숫자 표시\n",
    "# 1번째 loop -> 0번째를 제외하고 1~7번까지의 숫자 표시\n",
    "# 2번째 loop -> 2 ~ 7번까지 숫자 표시\n",
    "# ....\n",
    "# 6번째 loop -> 6 ~ 7번까지 숫자 표시\n",
    "\n",
    "# 정리\n",
    "# 0번째 루프에서 비교할 수(최소값을 찾기 위해 순회해야 하는 수)는 전체\n",
    "# 1번째 루프에서 비교할 수는 전체 - 1개\n",
    "# 2번째 루프에서 비교할 수는 전체 - 2개\n",
    "# 7번째 루프에서 비교할 수는 전체 - 7개\n",
    "\n",
    "# 출력 결과\n",
    "# [9, 1, 6, 8, 4, 3, 2, 0]\n",
    "# [1, 6, 8, 4, 3, 2, 0]\n",
    "# [6, 8, 4, 3, 2, 0]\n",
    "# [8, 4, 3, 2, 0]\n",
    "# [4, 3, 2, 0]\n",
    "# [3, 2, 0]\n",
    "# [2, 0]\n",
    "# [0]"
   ]
  },
  {
   "cell_type": "code",
   "execution_count": 112,
   "metadata": {},
   "outputs": [
    {
     "name": "stdout",
     "output_type": "stream",
     "text": [
      "[9, 1, 6, 8, 4, 3, 2, 0]\n",
      "[1, 6, 8, 4, 3, 2, 0]\n",
      "[6, 8, 4, 3, 2, 0]\n",
      "[8, 4, 3, 2, 0]\n",
      "[4, 3, 2, 0]\n",
      "[0]\n"
     ]
    }
   ],
   "source": [
    "print(ori)\n",
    "print(ori[1:])\n",
    "print(ori[2:])\n",
    "print(ori[3:])\n",
    "print(ori[4:])\n",
    "print(ori[7:])"
   ]
  },
  {
   "cell_type": "code",
   "execution_count": 115,
   "metadata": {
    "scrolled": true
   },
   "outputs": [
    {
     "name": "stdout",
     "output_type": "stream",
     "text": [
      "[9, 1, 6, 8, 4, 3, 2, 0]\n",
      "[1, 6, 8, 4, 3, 2, 0]\n",
      "[6, 8, 4, 3, 2, 0]\n",
      "[8, 4, 3, 2, 0]\n",
      "[4, 3, 2, 0]\n",
      "[3, 2, 0]\n",
      "[2, 0]\n",
      "[0]\n"
     ]
    }
   ],
   "source": [
    "for i in range(len(ori)):\n",
    "    print(ori[i:])"
   ]
  },
  {
   "cell_type": "code",
   "execution_count": 125,
   "metadata": {},
   "outputs": [],
   "source": [
    "# min함수 쓰지말고 각 Loop의 리스트에서 가장 작은값을 출력\n",
    "\n",
    "# 출력 결과\n",
    "# [9, 1, 6, 8, 4, 3, 2, 0]\n",
    "# min: 0\n",
    "# [1, 6, 8, 4, 3, 2, 0]\n",
    "# min: 0\n",
    "# [6, 8, 4, 3, 2, 0]\n",
    "# min: 0\n",
    "# [8, 4, 3, 2, 0]\n",
    "# min: 0\n",
    "# [4, 3, 2, 0]\n",
    "# min: 0\n",
    "# [3, 2, 0]\n",
    "# min: 0\n",
    "# [2, 0]\n",
    "# min: 0\n",
    "# [0]\n",
    "# min: 0"
   ]
  },
  {
   "cell_type": "code",
   "execution_count": 126,
   "metadata": {},
   "outputs": [],
   "source": [
    "ori2 = [2, 4, 3, 1, 6, 0, -3, -5, 8, 9]\n",
    "# 가장 작은 값을 출력"
   ]
  },
  {
   "cell_type": "code",
   "execution_count": 131,
   "metadata": {},
   "outputs": [
    {
     "name": "stdout",
     "output_type": "stream",
     "text": [
      "현재 숫자: 2\n",
      "최소: 2\n",
      "현재 숫자: 4\n",
      "최소: 2\n",
      "현재 숫자: 3\n",
      "최소: 2\n",
      "현재 숫자: 1\n",
      "최소: 1\n",
      "현재 숫자: 6\n",
      "최소: 1\n",
      "현재 숫자: 0\n",
      "최소: 0\n",
      "현재 숫자: 8\n",
      "최소: 0\n",
      "현재 숫자: 9\n",
      "최소: 0\n"
     ]
    }
   ],
   "source": [
    "min = ori2[0]\n",
    "\n",
    "for x in ori2:\n",
    "    if x < min:\n",
    "        min = x\n",
    "        \n",
    "    print('현재 숫자:', x)\n",
    "    print('최소:', min)"
   ]
  },
  {
   "cell_type": "code",
   "execution_count": 134,
   "metadata": {},
   "outputs": [
    {
     "name": "stdout",
     "output_type": "stream",
     "text": [
      "[9, 1, 6, 8, 4, 3, 2, 0]\n",
      "최소: 9\n",
      "최소: 1\n",
      "최소: 1\n",
      "최소: 1\n",
      "최소: 1\n",
      "최소: 1\n",
      "최소: 1\n",
      "최소: 0\n",
      "[1, 6, 8, 4, 3, 2, 0]\n",
      "최소: 1\n",
      "최소: 1\n",
      "최소: 1\n",
      "최소: 1\n",
      "최소: 1\n",
      "최소: 1\n",
      "최소: 0\n",
      "[6, 8, 4, 3, 2, 0]\n",
      "최소: 6\n",
      "최소: 6\n",
      "최소: 4\n",
      "최소: 3\n",
      "최소: 2\n",
      "최소: 0\n",
      "[8, 4, 3, 2, 0]\n",
      "최소: 8\n",
      "최소: 4\n",
      "최소: 3\n",
      "최소: 2\n",
      "최소: 0\n",
      "[4, 3, 2, 0]\n",
      "최소: 4\n",
      "최소: 3\n",
      "최소: 2\n",
      "최소: 0\n",
      "[3, 2, 0]\n",
      "최소: 3\n",
      "최소: 2\n",
      "최소: 0\n",
      "[2, 0]\n",
      "최소: 2\n",
      "최소: 0\n",
      "[0]\n",
      "최소: 0\n"
     ]
    }
   ],
   "source": [
    "# min함수 쓰지말고 각 Loop의 리스트에서 가장 작은값을 출력\n",
    "for i in range(len(ori)):\n",
    "    print(ori[i:])\n",
    "    \n",
    "    # 현재 loop의 첫 번째 값을 최소값으로 지정\n",
    "    min = ori[i]\n",
    "    # ori의 i번째부터 끝까지를 순회함\n",
    "    # (i는 상위 Loop에서 1씩 증가)\n",
    "    for x in ori[i:]:\n",
    "        if x < min:\n",
    "            min = x\n",
    "        print('최소:', min)"
   ]
  },
  {
   "cell_type": "code",
   "execution_count": 135,
   "metadata": {},
   "outputs": [],
   "source": [
    "# 의사코드\n",
    "# ori = [9,1,6,8,4,3,2,0]\n",
    "\n",
    "# # 총 8개 원소이므로\n",
    "# for 0 부터 n - 1 까지:\n",
    "#     ori[i]부터 ori[n - 1]까지 비교\n",
    "#     만약 최소값이 j에 있다면\n",
    "#     ori[i]와 ori[j]의 값을 서로 바꿔준다"
   ]
  },
  {
   "cell_type": "code",
   "execution_count": 144,
   "metadata": {},
   "outputs": [
    {
     "name": "stdout",
     "output_type": "stream",
     "text": [
      "Loop 0, ori: [9, 1, 6, 8, 4, 3, 2, 0]\n",
      "최소: 9 최소 index: 0\n",
      "최소: 1 최소 index: 1\n",
      "최소: 1 최소 index: 1\n",
      "최소: 1 최소 index: 1\n",
      "최소: 1 최소 index: 1\n",
      "최소: 1 최소 index: 1\n",
      "최소: 1 최소 index: 1\n",
      "최소: 0 최소 index: 7\n",
      "Loop 1, ori: [0, 1, 6, 8, 4, 3, 2, 9]\n",
      "최소: 1 최소 index: 1\n",
      "최소: 1 최소 index: 1\n",
      "최소: 1 최소 index: 1\n",
      "최소: 1 최소 index: 1\n",
      "최소: 1 최소 index: 1\n",
      "최소: 1 최소 index: 1\n",
      "최소: 1 최소 index: 1\n",
      "Loop 2, ori: [0, 1, 6, 8, 4, 3, 2, 9]\n",
      "최소: 6 최소 index: 2\n",
      "최소: 6 최소 index: 2\n",
      "최소: 4 최소 index: 4\n",
      "최소: 3 최소 index: 5\n",
      "최소: 2 최소 index: 6\n",
      "최소: 2 최소 index: 6\n",
      "Loop 3, ori: [0, 1, 2, 8, 4, 3, 6, 9]\n",
      "최소: 8 최소 index: 3\n",
      "최소: 4 최소 index: 4\n",
      "최소: 3 최소 index: 5\n",
      "최소: 3 최소 index: 5\n",
      "최소: 3 최소 index: 5\n",
      "Loop 4, ori: [0, 1, 2, 3, 4, 8, 6, 9]\n",
      "최소: 4 최소 index: 4\n",
      "최소: 4 최소 index: 4\n",
      "최소: 4 최소 index: 4\n",
      "최소: 4 최소 index: 4\n",
      "Loop 5, ori: [0, 1, 2, 3, 4, 8, 6, 9]\n",
      "최소: 8 최소 index: 5\n",
      "최소: 6 최소 index: 6\n",
      "최소: 6 최소 index: 6\n",
      "Loop 6, ori: [0, 1, 2, 3, 4, 6, 8, 9]\n",
      "최소: 8 최소 index: 6\n",
      "최소: 8 최소 index: 6\n"
     ]
    }
   ],
   "source": [
    "ori = [9,1,6,8,4,3,2,0]\n",
    "# min함수 쓰지말고 각 Loop의 리스트에서 가장 작은값을 출력\n",
    "for i in range(len(ori) - 1):\n",
    "    print(f'Loop {i}, ori: {ori}')\n",
    "    # 현재 loop의 첫 번째 값을 최소값으로 지정\n",
    "    min = ori[i]\n",
    "    # 현재 loop의 최소값의 ori에서의 index를 저장\n",
    "    min_index = i\n",
    "    # ori의 i번째부터 끝까지를 순회함\n",
    "    # (i는 상위 Loop에서 1씩 증가)\n",
    "    for inner_index, x in enumerate(ori[i:]):\n",
    "        if x < min:\n",
    "            min = x\n",
    "            # 최소값을 지정하면서 현재 loop의 최소값 index갱신\n",
    "            min_index = i + inner_index\n",
    "        print('최소:', min, '최소 index:', min_index)\n",
    "        \n",
    "    # 최소값을 찾았으므로 i번째 요소와 위치를 바꿔줌\n",
    "    ori[i], ori[min_index] = ori[min_index], ori[i]"
   ]
  },
  {
   "cell_type": "code",
   "execution_count": 147,
   "metadata": {},
   "outputs": [
    {
     "name": "stdout",
     "output_type": "stream",
     "text": [
      "[0, 1, 2, 3, 4, 6, 8, 9]\n"
     ]
    }
   ],
   "source": [
    "ori = [9,1,6,8,4,3,2,0]\n",
    "# min함수 쓰지말고 각 Loop의 리스트에서 가장 작은값을 출력\n",
    "ori_length = len(ori)\n",
    "for i in range(ori_length - 1):\n",
    "    min_index = i\n",
    "    for inner_index in range(i, ori_length):\n",
    "        if ori[inner_index] < ori[min_index]:\n",
    "            min_index = inner_index\n",
    "    if min_index != i:\n",
    "        ori[i], ori[min_index] = ori[min_index], ori[i]\n",
    "print(ori)"
   ]
  }
 ],
 "metadata": {
  "kernelspec": {
   "display_name": "Python 3",
   "language": "python",
   "name": "python3"
  },
  "language_info": {
   "codemirror_mode": {
    "name": "ipython",
    "version": 3
   },
   "file_extension": ".py",
   "mimetype": "text/x-python",
   "name": "python",
   "nbconvert_exporter": "python",
   "pygments_lexer": "ipython3",
   "version": "3.6.5"
  }
 },
 "nbformat": 4,
 "nbformat_minor": 2
}
