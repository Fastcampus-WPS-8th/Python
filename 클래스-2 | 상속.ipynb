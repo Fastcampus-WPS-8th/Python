{
 "cells": [
  {
   "cell_type": "code",
   "execution_count": 19,
   "metadata": {},
   "outputs": [],
   "source": [
    "class Shop:\n",
    "    def __init__(self, name, shop_type, address):\n",
    "        self.name = name\n",
    "        # _로 시작하는 속성/메서드명은\n",
    "        # protected (외부사용금지 / 상속받은 자식에선 사용가능)\n",
    "        self._shop_type = shop_type\n",
    "        self.address = address\n",
    "        \n",
    "    # info 프로퍼티를 정의\n",
    "    #  리턴하는 내용은 아래의 show_info가 출력하는 문자열\n",
    "    #  인스턴스 메서드를 만들고 show_info에서 출력하던 문자열을 리턴\n",
    "    #  메서드에 @property 데코레이터만 붙이면 완성!\n",
    "    # subway.info\n",
    "    @property\n",
    "    def info(self):\n",
    "        return (\n",
    "            f'상점정보 ({self.name})\\n'\n",
    "            f' 유형: {self._shop_type}\\n'\n",
    "            f' 주소: {self.address}'\n",
    "        )\n",
    "#         return f'''상점정보 ({self.name})\n",
    "# 유형: {self._shop_type}'\n",
    "# 주소: {self.address}'''\n",
    "    \n",
    "    def show_info(self):\n",
    "        print(self.info)\n",
    "\n",
    "    @property\n",
    "    def shop_type(self):\n",
    "        return self._shop_type\n",
    "    \n",
    "    @shop_type.setter\n",
    "    def shop_type(self, new_shop_type):\n",
    "        self._shop_type = new_shop_type\n",
    "        print(f'새 상점 유형 ({new_shop_type}) 적용')"
   ]
  },
  {
   "cell_type": "code",
   "execution_count": 26,
   "metadata": {},
   "outputs": [],
   "source": [
    "class Restaurant(Shop):\n",
    "    def __init__(self, name, shop_type, address, rating):\n",
    "        super().__init__(name, shop_type, address)\n",
    "        self.rating = rating\n",
    "        \n",
    "    @property\n",
    "    def info(self):\n",
    "        ori = super().info\n",
    "        return ori.replace('상점', '식당')\n",
    "    \n",
    "    def show_info(self):\n",
    "        print('Restaurant show_info()')\n",
    "        super().show_info()"
   ]
  },
  {
   "cell_type": "code",
   "execution_count": 27,
   "metadata": {},
   "outputs": [
    {
     "name": "stdout",
     "output_type": "stream",
     "text": [
      "Restaurant show_info()\n",
      "식당정보 (서브웨이)\n",
      " 유형: 패스트푸드\n",
      " 주소: 성수역\n"
     ]
    }
   ],
   "source": [
    "subway = Restaurant('서브웨이', '패스트푸드', '성수역', 10)\n",
    "subway.show_info()"
   ]
  },
  {
   "cell_type": "code",
   "execution_count": 4,
   "metadata": {},
   "outputs": [],
   "source": [
    "class Shop:\n",
    "    def __init__(self, name, shop_type):\n",
    "        self.name = name\n",
    "        self.shop_type = shop_type\n",
    "    \n",
    "    # 메서드를 정의\n",
    "    # 메서드 명은 info\n",
    "    # 리턴하는것은 문자열\n",
    "    @property\n",
    "    def info(self):\n",
    "        return '{}에 있는 {}'.format(\n",
    "            self.shop_type,\n",
    "            self.name,\n",
    "        )"
   ]
  },
  {
   "cell_type": "code",
   "execution_count": 5,
   "metadata": {},
   "outputs": [
    {
     "name": "stdout",
     "output_type": "stream",
     "text": [
      "성수역에 있는 CU\n",
      "강남역에 있는 GS25\n"
     ]
    }
   ],
   "source": [
    "cu = Shop('CU', '성수역')\n",
    "gs25 = Shop('GS25', '강남역')\n",
    "print(cu.info)\n",
    "print(gs25.info)"
   ]
  },
  {
   "cell_type": "code",
   "execution_count": 6,
   "metadata": {},
   "outputs": [],
   "source": [
    "class Product:\n",
    "    def __init__(self, name, original_price, discount):\n",
    "        self.name = name\n",
    "        self.original_price = original_price\n",
    "        self.discount = discount\n",
    "        \n",
    "    @property\n",
    "    def price(self):\n",
    "        return int(self.original_price * (self.discount / 100))"
   ]
  },
  {
   "cell_type": "code",
   "execution_count": 7,
   "metadata": {},
   "outputs": [],
   "source": [
    "iphone = Product('아이폰X', 1000000, 30)"
   ]
  },
  {
   "cell_type": "code",
   "execution_count": 8,
   "metadata": {},
   "outputs": [
    {
     "data": {
      "text/plain": [
       "30000000"
      ]
     },
     "execution_count": 8,
     "metadata": {},
     "output_type": "execute_result"
    }
   ],
   "source": [
    "iphone.price * 100"
   ]
  },
  {
   "cell_type": "code",
   "execution_count": 72,
   "metadata": {},
   "outputs": [],
   "source": [
    "import random\n",
    "\n",
    "class Pokemon:\n",
    "    def __init__(self, name, type):\n",
    "        self.name = name\n",
    "        self.type = type\n",
    "        \n",
    "    def __str__(self):\n",
    "        return f'{self.name} ({self.type}타입)'\n",
    "        \n",
    "    @staticmethod\n",
    "    def electric():\n",
    "        pokemons = ('피카츄', '라이츄', '붐볼')\n",
    "        selected = random.choice(pokemons)\n",
    "        return Pokemon(selected, '전기')"
   ]
  },
  {
   "cell_type": "code",
   "execution_count": 68,
   "metadata": {},
   "outputs": [],
   "source": [
    "random_electric_pokemon = Pokemon.electric()"
   ]
  },
  {
   "cell_type": "code",
   "execution_count": 73,
   "metadata": {},
   "outputs": [],
   "source": [
    "poke = Pokemon.electric()"
   ]
  },
  {
   "cell_type": "code",
   "execution_count": null,
   "metadata": {},
   "outputs": [],
   "source": []
  },
  {
   "cell_type": "code",
   "execution_count": 42,
   "metadata": {},
   "outputs": [
    {
     "name": "stdout",
     "output_type": "stream",
     "text": [
      "피카츄\n"
     ]
    }
   ],
   "source": [
    "print(random_electric_pokemon.name)"
   ]
  },
  {
   "cell_type": "code",
   "execution_count": 44,
   "metadata": {},
   "outputs": [],
   "source": [
    "class Shop:\n",
    "    description = 'Shop class'\n",
    "    def __init__(self, name):\n",
    "        self.name = name\n",
    "        \n",
    "    @classmethod\n",
    "    def change_description(cls, desc):\n",
    "        cls.description = desc"
   ]
  },
  {
   "cell_type": "code",
   "execution_count": 46,
   "metadata": {},
   "outputs": [],
   "source": [
    "shop1 = Shop('1')\n",
    "shop2 = Shop('2')"
   ]
  },
  {
   "cell_type": "code",
   "execution_count": 47,
   "metadata": {},
   "outputs": [
    {
     "data": {
      "text/plain": [
       "'Shop class'"
      ]
     },
     "execution_count": 47,
     "metadata": {},
     "output_type": "execute_result"
    }
   ],
   "source": [
    "shop1.description"
   ]
  },
  {
   "cell_type": "code",
   "execution_count": 48,
   "metadata": {},
   "outputs": [
    {
     "data": {
      "text/plain": [
       "'Shop class'"
      ]
     },
     "execution_count": 48,
     "metadata": {},
     "output_type": "execute_result"
    }
   ],
   "source": [
    "shop2.description"
   ]
  },
  {
   "cell_type": "code",
   "execution_count": 49,
   "metadata": {},
   "outputs": [],
   "source": [
    "Shop.change_description('abcd')"
   ]
  },
  {
   "cell_type": "code",
   "execution_count": 50,
   "metadata": {},
   "outputs": [
    {
     "data": {
      "text/plain": [
       "'abcd'"
      ]
     },
     "execution_count": 50,
     "metadata": {},
     "output_type": "execute_result"
    }
   ],
   "source": [
    "shop1.description"
   ]
  },
  {
   "cell_type": "code",
   "execution_count": 51,
   "metadata": {},
   "outputs": [
    {
     "data": {
      "text/plain": [
       "'abcd'"
      ]
     },
     "execution_count": 51,
     "metadata": {},
     "output_type": "execute_result"
    }
   ],
   "source": [
    "shop2.description"
   ]
  },
  {
   "cell_type": "code",
   "execution_count": 52,
   "metadata": {},
   "outputs": [
    {
     "data": {
      "text/plain": [
       "'abcd'"
      ]
     },
     "execution_count": 52,
     "metadata": {},
     "output_type": "execute_result"
    }
   ],
   "source": [
    "Shop.description"
   ]
  },
  {
   "cell_type": "code",
   "execution_count": 53,
   "metadata": {},
   "outputs": [],
   "source": [
    "shop1.change_description('sdfsdfsdf')"
   ]
  },
  {
   "cell_type": "code",
   "execution_count": 54,
   "metadata": {},
   "outputs": [
    {
     "data": {
      "text/plain": [
       "'sdfsdfsdf'"
      ]
     },
     "execution_count": 54,
     "metadata": {},
     "output_type": "execute_result"
    }
   ],
   "source": [
    "Shop.description"
   ]
  },
  {
   "cell_type": "code",
   "execution_count": 65,
   "metadata": {},
   "outputs": [
    {
     "data": {
      "text/plain": [
       "'[1, 2, 3, 4]'"
      ]
     },
     "execution_count": 65,
     "metadata": {},
     "output_type": "execute_result"
    }
   ],
   "source": [
    "str([1,2,3,4])"
   ]
  },
  {
   "cell_type": "code",
   "execution_count": 67,
   "metadata": {},
   "outputs": [
    {
     "data": {
      "text/plain": [
       "'[1, 2, 3, 4]'"
      ]
     },
     "execution_count": 67,
     "metadata": {},
     "output_type": "execute_result"
    }
   ],
   "source": [
    "[1,2,3,4].__str__()"
   ]
  },
  {
   "cell_type": "code",
   "execution_count": 74,
   "metadata": {},
   "outputs": [
    {
     "data": {
      "text/plain": [
       "'라이츄 (전기타입)'"
      ]
     },
     "execution_count": 74,
     "metadata": {},
     "output_type": "execute_result"
    }
   ],
   "source": [
    "str(poke)"
   ]
  },
  {
   "cell_type": "code",
   "execution_count": null,
   "metadata": {},
   "outputs": [],
   "source": []
  },
  {
   "cell_type": "code",
   "execution_count": 77,
   "metadata": {},
   "outputs": [],
   "source": [
    "class User:\n",
    "    def __init__(self, name):\n",
    "        self.name = name\n",
    "        self.atk = 0\n",
    "        self.defense = 0\n",
    "\n",
    "    def equip(self, item):\n",
    "        item.use(self)\n",
    "        \n",
    "    def __repr__(self):\n",
    "        return f'{self.name} (atk: {self.atk}, def: {self.defense})'"
   ]
  },
  {
   "cell_type": "code",
   "execution_count": 80,
   "metadata": {},
   "outputs": [],
   "source": [
    "class Sword:\n",
    "    def use(self, user):\n",
    "        user.atk += 10\n",
    "\n",
    "class Shield:\n",
    "    def use(self, user):\n",
    "        user.defense += 10"
   ]
  },
  {
   "cell_type": "code",
   "execution_count": 82,
   "metadata": {},
   "outputs": [],
   "source": [
    "lhy = User('이한영')"
   ]
  },
  {
   "cell_type": "code",
   "execution_count": 83,
   "metadata": {},
   "outputs": [],
   "source": [
    "sword1 = Sword()\n",
    "shield1 = Shield()"
   ]
  },
  {
   "cell_type": "code",
   "execution_count": 84,
   "metadata": {},
   "outputs": [],
   "source": [
    "lhy.equip(sword1)"
   ]
  },
  {
   "cell_type": "code",
   "execution_count": 85,
   "metadata": {},
   "outputs": [
    {
     "data": {
      "text/plain": [
       "이한영 (atk: 10, def: 0)"
      ]
     },
     "execution_count": 85,
     "metadata": {},
     "output_type": "execute_result"
    }
   ],
   "source": [
    "lhy"
   ]
  },
  {
   "cell_type": "code",
   "execution_count": 86,
   "metadata": {},
   "outputs": [
    {
     "data": {
      "text/plain": [
       "이한영 (atk: 10, def: 10)"
      ]
     },
     "execution_count": 86,
     "metadata": {},
     "output_type": "execute_result"
    }
   ],
   "source": [
    "lhy.equip(shield1)\n",
    "lhy"
   ]
  },
  {
   "cell_type": "code",
   "execution_count": null,
   "metadata": {},
   "outputs": [],
   "source": []
  }
 ],
 "metadata": {
  "kernelspec": {
   "display_name": "Python 3",
   "language": "python",
   "name": "python3"
  },
  "language_info": {
   "codemirror_mode": {
    "name": "ipython",
    "version": 3
   },
   "file_extension": ".py",
   "mimetype": "text/x-python",
   "name": "python",
   "nbconvert_exporter": "python",
   "pygments_lexer": "ipython3",
   "version": "3.6.5"
  }
 },
 "nbformat": 4,
 "nbformat_minor": 2
}
